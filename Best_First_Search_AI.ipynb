{
  "nbformat": 4,
  "nbformat_minor": 0,
  "metadata": {
    "colab": {
      "provenance": [],
      "authorship_tag": "ABX9TyNZd/g0BcmLqY6MdnqLwmgJ",
      "include_colab_link": true
    },
    "kernelspec": {
      "name": "python3",
      "display_name": "Python 3"
    },
    "language_info": {
      "name": "python"
    }
  },
  "cells": [
    {
      "cell_type": "markdown",
      "metadata": {
        "id": "view-in-github",
        "colab_type": "text"
      },
      "source": [
        "<a href=\"https://colab.research.google.com/github/Ashubapun/Best_First_Search/blob/main/Best_First_Search_AI.ipynb\" target=\"_parent\"><img src=\"https://colab.research.google.com/assets/colab-badge.svg\" alt=\"Open In Colab\"/></a>"
      ]
    },
    {
      "cell_type": "code",
      "execution_count": null,
      "metadata": {
        "colab": {
          "base_uri": "https://localhost:8080/"
        },
        "id": "kcXQTarOV7aL",
        "outputId": "0c6667c1-ec4c-4f93-b73a-eb07bd7bab93"
      },
      "outputs": [
        {
          "output_type": "stream",
          "name": "stdout",
          "text": [
            "0 1 3 10 20 19 2 8 15 9 18 \n"
          ]
        }
      ],
      "source": [
        "from queue import PriorityQueue\n",
        "v = 30\n",
        "graph = [[] for i in range(v)]\n",
        "\n",
        "# Function For Implementing Best First Search\n",
        "# Gives output path having lowest cost\n",
        "\n",
        "\n",
        "def best_first_search(actual_Src, target, n):\n",
        "    visited = [False] * n\n",
        "    pq = PriorityQueue()\n",
        "    pq.put((0, actual_Src))\n",
        "    visited[actual_Src] = True\n",
        "\n",
        "    while pq.empty() == False:\n",
        "        u = pq.get()[1]\n",
        "        # Displaying the path having lowest cost\n",
        "        print(u, end=\" \")\n",
        "        if u == target:\n",
        "            break\n",
        "\n",
        "        for v, c in graph[u]:\n",
        "            if visited[v] == False:\n",
        "                visited[v] = True\n",
        "                pq.put((c, v))\n",
        "    print()\n",
        "\n",
        "# Function for adding edges to graph\n",
        "\n",
        "\n",
        "def addedge(x, y, cost):\n",
        "    graph[x].append((y, cost))\n",
        "    graph[y].append((x, cost))\n",
        "\n",
        "\n",
        "# The nodes shown in above example(by alphabets) are\n",
        "# implemented using integers addedge(x,y,cost);\n",
        "addedge(0, 1, 3)\n",
        "addedge(0, 2, 6)\n",
        "addedge(0, 3, 5)\n",
        "addedge(1, 4, 9)\n",
        "addedge(1, 5, 8)\n",
        "addedge(1, 6, 12)\n",
        "addedge(2, 7, 14)\n",
        "addedge(2, 8, 7)\n",
        "addedge(3, 9, 7)\n",
        "addedge(3, 10, 5)\n",
        "addedge(4, 11, 1)\n",
        "addedge(4, 12, 10)\n",
        "addedge(6, 13, 2)\n",
        "addedge(7, 14, 6)\n",
        "addedge(8, 15, 5)\n",
        "addedge(8, 16, 8)\n",
        "addedge(9, 17, 7)\n",
        "addedge(9, 18, 6)\n",
        "addedge(10, 19, 4)\n",
        "addedge(10, 20, 2)\n",
        "\n",
        "source = 0\n",
        "target = 18\n",
        "best_first_search(source, target, v)\n"
      ]
    },
    {
      "cell_type": "code",
      "source": [],
      "metadata": {
        "id": "7Q6nnwAMx2vT"
      },
      "execution_count": null,
      "outputs": []
    }
  ]
}